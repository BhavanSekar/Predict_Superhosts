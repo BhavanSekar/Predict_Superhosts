{
 "cells": [
  {
   "cell_type": "code",
   "execution_count": 3,
   "id": "d7d0a3cd",
   "metadata": {},
   "outputs": [],
   "source": [
    "import pandas as pd\n",
    "import folium\n",
    "from folium.plugins import MarkerCluster\n",
    "\n",
    "# Load a subset of the dataset\n",
    "df = pd.read_csv(\"airbnb_Oakland.csv\")\n",
    "df_subset = df  # Adjust the number based on your dataset size\n",
    "\n",
    "# Create a base map centered around the mean latitude and longitude\n",
    "mean_latitude = df_subset['Latitude'].mean()\n",
    "mean_longitude = df_subset['Longitude'].mean()\n",
    "my_map = folium.Map(location=[mean_latitude, mean_longitude], zoom_start=12)\n",
    "\n",
    "# Create a MarkerCluster\n",
    "marker_cluster = MarkerCluster().add_to(my_map)\n",
    "\n",
    "# Add markers to the map based on revenue and superhost status\n",
    "for index, row in df_subset.iterrows():\n",
    "    # Adjust the scaling factor based on your data to control marker size\n",
    "    radius = row['revenue'] / 100  # You may need to adjust this scaling factor\n",
    "\n",
    "    # Set color based on superhost status\n",
    "    if row['Superhost'] == 1:\n",
    "        color = 'green'  # Superhost\n",
    "    else:\n",
    "        color = 'red'    # Not a Superhost\n",
    "\n",
    "    folium.CircleMarker(\n",
    "        location=[row['Latitude'], row['Longitude']],\n",
    "        popup=row['Property Type'],\n",
    "        radius=radius,\n",
    "        color=color,\n",
    "        fill=True,\n",
    "        fill_color=color,\n",
    "        fill_opacity=0.6,\n",
    "    ).add_to(marker_cluster)\n",
    "\n",
    "# Save the map as an HTML file\n",
    "my_map.save(\"revenue_superhost_map_folium.html\")"
   ]
  },
  {
   "cell_type": "code",
   "execution_count": null,
   "id": "ae859ccf",
   "metadata": {},
   "outputs": [],
   "source": []
  }
 ],
 "metadata": {
  "kernelspec": {
   "display_name": "Python 3 (ipykernel)",
   "language": "python",
   "name": "python3"
  },
  "language_info": {
   "codemirror_mode": {
    "name": "ipython",
    "version": 3
   },
   "file_extension": ".py",
   "mimetype": "text/x-python",
   "name": "python",
   "nbconvert_exporter": "python",
   "pygments_lexer": "ipython3",
   "version": "3.11.5"
  }
 },
 "nbformat": 4,
 "nbformat_minor": 5
}
